{
 "cells": [
  {
   "cell_type": "code",
   "execution_count": 2,
   "metadata": {},
   "outputs": [
    {
     "name": "stdout",
     "output_type": "stream",
     "text": [
      "<class 'int'>\n",
      "<class 'int'>\n",
      "<class 'int'>\n"
     ]
    }
   ],
   "source": [
    "'''\n",
    "Any variable in python stores data of different types, and each type has specific usage\n",
    "\n",
    "various data types we are going to see today are:\n",
    "\n",
    "Numeric ---> int, float,complex\n",
    "boolean ---> bool\n",
    "Text    ---> str\n",
    " \n",
    "'''\n",
    "\n",
    "\n",
    "'''\n",
    "Python Numbers:\n",
    "\n",
    "\n",
    "1) Int:\n",
    "   whole number, (+)ve/ (-)ve/0 , with no decimals, unlimited length.\n",
    "   \n",
    "   Examples:\n",
    "'''\n",
    "   \n",
    "x=1\n",
    "y=17453657567\n",
    "z=-45\n",
    "print(type(y))\n",
    "print(type(z))\n",
    "\n"
   ]
  },
  {
   "cell_type": "code",
   "execution_count": 3,
   "metadata": {},
   "outputs": [
    {
     "name": "stdout",
     "output_type": "stream",
     "text": [
      "<class 'float'>\n",
      "<class 'float'>\n",
      "<class 'float'>\n"
     ]
    }
   ],
   "source": [
    "'''\n",
    "2) Float:\n",
    " (+ve)/(-ve) num containing decimals.\n",
    "\n",
    "Examples\n",
    "'''\n",
    "\n",
    "v=4.21\n",
    "i=805.0\n",
    "n=-747.494\n",
    "\n",
    "print(type(v))\n",
    "print(type(i))\n",
    "print(type(n))"
   ]
  },
  {
   "cell_type": "code",
   "execution_count": 4,
   "metadata": {},
   "outputs": [
    {
     "name": "stdout",
     "output_type": "stream",
     "text": [
      "35100.0\n",
      "12000.0\n",
      "-9878.0\n"
     ]
    }
   ],
   "source": [
    "'''\n",
    "float also uses symbol \"e\" for indicating power of 10\n",
    "for scientific notation representations.\n",
    "examples\n",
    "'''\n",
    "\n",
    "p=351e2\n",
    "q=12E3\n",
    "z=-98.78E2\n",
    "\n",
    "print(p)\n",
    "print(q)\n",
    "print(z)\n"
   ]
  },
  {
   "cell_type": "code",
   "execution_count": 5,
   "metadata": {},
   "outputs": [
    {
     "name": "stdout",
     "output_type": "stream",
     "text": [
      "(74+7j)\n",
      "(-0-94j)\n",
      "94j\n",
      "<class 'complex'>\n",
      "<class 'complex'>\n",
      "<class 'complex'>\n"
     ]
    }
   ],
   "source": [
    "'''\n",
    "3)Complex \n",
    "\n",
    "should contain imaginary part.\n",
    "Represented with 'j' as imaginary part.\n",
    "\n",
    "Examples:\n",
    "\n",
    "'''\n",
    "\n",
    "a=74+7j\n",
    "b=-94j\n",
    "c=94j\n",
    "\n",
    "\n",
    "print(a)\n",
    "print(b)\n",
    "print(c)\n",
    "\n",
    "\n",
    "print(type(a))\n",
    "print(type(b))\n",
    "print(type(c))"
   ]
  },
  {
   "cell_type": "code",
   "execution_count": 8,
   "metadata": {},
   "outputs": [
    {
     "name": "stdout",
     "output_type": "stream",
     "text": [
      "True\n",
      "False\n",
      "True\n",
      "b is greater than a\n"
     ]
    }
   ],
   "source": [
    "'''\n",
    "Boolean\n",
    "\n",
    "In a Prog. Lang we need to know if a particular expression is True/False.\n",
    "\n",
    "Python lets us to evaluate any expression if T/F and returs if T/F.\n",
    "\n",
    "Example:\n",
    "\n",
    "'''\n",
    "print(5>3)\n",
    "\n",
    "k='a'\n",
    "L='A'\n",
    "print(k<L)\n",
    "print(9==9)\n",
    "\n",
    "\n",
    "\n",
    "\"Conditional statements also uses this concept\"\n",
    "\n",
    "a=500\n",
    "b=501\n",
    "if b>a:\n",
    "    print(\"b is greater than a\")\n",
    "else:\n",
    "    print(\"a is greater than b\")"
   ]
  },
  {
   "cell_type": "code",
   "execution_count": 21,
   "metadata": {},
   "outputs": [
    {
     "name": "stdout",
     "output_type": "stream",
     "text": [
      "True\n",
      "True\n",
      "True\n",
      "True\n"
     ]
    }
   ],
   "source": [
    "'''\n",
    "Evaluates Values & Varaiables\n",
    "\n",
    "Examples:\n",
    "\n",
    "'''\n",
    "\n",
    "print(bool(\"Hi Mr. Sanket\"))\n",
    "print(bool(1551))\n",
    "\n",
    "\n",
    "\n",
    "\n",
    "\n",
    "A=\"Prasanna\"\n",
    "Yash = 100.00\n",
    "\n",
    "print(bool(A))\n",
    "print(bool(Yash))"
   ]
  },
  {
   "cell_type": "code",
   "execution_count": 20,
   "metadata": {},
   "outputs": [
    {
     "name": "stdout",
     "output_type": "stream",
     "text": [
      "False\n",
      "False\n",
      "False\n",
      "True\n",
      "False\n",
      "False\n",
      "False\n"
     ]
    }
   ],
   "source": [
    "'''\n",
    "Only few things returns false\n",
    "\n",
    "Empty lists,sets,tuples, 0, \n",
    "\n",
    "Examples:\n",
    "\n",
    "'''\n",
    "\n",
    "print(bool(False))\n",
    "print(bool(None))\n",
    "print(bool(0))\n",
    "print(bool(\" \"))\n",
    "print(bool(()))\n",
    "print(bool([]))\n",
    "print(bool({}))\n"
   ]
  },
  {
   "cell_type": "code",
   "execution_count": 26,
   "metadata": {},
   "outputs": [
    {
     "name": "stdout",
     "output_type": "stream",
     "text": [
      "var 1 and var2 are same\n",
      "var 1 and var2 are same\n",
      "All people here in meeting are wise\n",
      " i am a,\n",
      "multi line  string,\n",
      "be careful while deeling with me.\n"
     ]
    }
   ],
   "source": [
    "#string\n",
    "\n",
    "'''\n",
    "Data Type used to store a char/ group of char objects\n",
    "\n",
    "\n",
    "syntax is as follows :\n",
    "'''\n",
    "#1\n",
    "Var1=\"var 1 and var2 are same\" #enclosed in double quotes\n",
    "Var2='var 1 and var2 are same'  #enclosed in sigle quotes\n",
    "print(Var1)\n",
    "print(Var2)\n",
    "\n",
    "\n",
    "#2 directly we could directly display string using print()\n",
    "\n",
    "\n",
    "print(\"All people here in meeting are wise\")\n",
    "\n",
    "\n",
    "\n",
    "# For multi line string we need to enclose in 3 single/ double  quotes \n",
    "\n",
    "\n",
    "a=''' i am a,\n",
    "multi line  string,\n",
    "be careful while deeling with me.'''\n",
    "\n",
    "print(a)\n"
   ]
  },
  {
   "cell_type": "code",
   "execution_count": 28,
   "metadata": {},
   "outputs": [
    {
     "name": "stdout",
     "output_type": "stream",
     "text": [
      "N\n",
      "Netzwerk\n"
     ]
    }
   ],
   "source": [
    "# In python strings works as arrays\n",
    "\n",
    "# To access elements of string\n",
    "\n",
    "Name = \"Netzwerk\"\n",
    "print(Name[0])\n",
    "\n",
    "# could access all elements using for loop.\n",
    "\n",
    "\n",
    "#Slicing\n",
    "print(Name[:])\n",
    "\n",
    "#String modifiers\n",
    "\n",
    "# upper(), lower(), split(), replace()\n"
   ]
  },
  {
   "cell_type": "code",
   "execution_count": null,
   "metadata": {},
   "outputs": [],
   "source": []
  }
 ],
 "metadata": {
  "kernelspec": {
   "display_name": "Python 3",
   "language": "python",
   "name": "python3"
  },
  "language_info": {
   "codemirror_mode": {
    "name": "ipython",
    "version": 3
   },
   "file_extension": ".py",
   "mimetype": "text/x-python",
   "name": "python",
   "nbconvert_exporter": "python",
   "pygments_lexer": "ipython3",
   "version": "3.8.3"
  }
 },
 "nbformat": 4,
 "nbformat_minor": 4
}
