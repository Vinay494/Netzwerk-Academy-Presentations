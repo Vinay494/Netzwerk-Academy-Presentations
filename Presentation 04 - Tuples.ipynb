{
 "cells": [
  {
   "cell_type": "markdown",
   "metadata": {},
   "source": [
    "# Tuples\n",
    "\n",
    "---> Similar to lists,stores\n",
    "---> immutable, ordered"
   ]
  },
  {
   "cell_type": "code",
   "execution_count": 56,
   "metadata": {},
   "outputs": [
    {
     "name": "stdout",
     "output_type": "stream",
     "text": [
      "('Python', 'Maths', 'ML')\n",
      "<class 'tuple'>\n",
      "<class 'tuple'>\n"
     ]
    }
   ],
   "source": [
    "# Creating a tuple\n",
    "\n",
    "DS=(\"Python\",\"Maths\", \"ML\")\n",
    "T=(\"Netzwek\", )\n",
    "\n",
    "print(DS)\n",
    "print(type(DS))\n",
    "print(type(T))"
   ]
  },
  {
   "cell_type": "code",
   "execution_count": 51,
   "metadata": {},
   "outputs": [
    {
     "ename": "AttributeError",
     "evalue": "'tuple' object has no attribute 'append'",
     "output_type": "error",
     "traceback": [
      "\u001b[1;31m---------------------------------------------------------------------------\u001b[0m",
      "\u001b[1;31mAttributeError\u001b[0m                            Traceback (most recent call last)",
      "\u001b[1;32m<ipython-input-51-50d0c8fb4cab>\u001b[0m in \u001b[0;36m<module>\u001b[1;34m\u001b[0m\n\u001b[0;32m      1\u001b[0m \u001b[1;31m# they cann't be modified\u001b[0m\u001b[1;33m\u001b[0m\u001b[1;33m\u001b[0m\u001b[1;33m\u001b[0m\u001b[0m\n\u001b[0;32m      2\u001b[0m \u001b[1;33m\u001b[0m\u001b[0m\n\u001b[1;32m----> 3\u001b[1;33m \u001b[0mDS\u001b[0m\u001b[1;33m.\u001b[0m\u001b[0mappend\u001b[0m\u001b[1;33m(\u001b[0m\u001b[1;34m\"Java\"\u001b[0m\u001b[1;33m)\u001b[0m\u001b[1;33m\u001b[0m\u001b[1;33m\u001b[0m\u001b[0m\n\u001b[0m\u001b[0;32m      4\u001b[0m \u001b[0mDS\u001b[0m\u001b[1;33m.\u001b[0m\u001b[0mremove\u001b[0m\u001b[1;33m(\u001b[0m\u001b[1;34m\"Python\"\u001b[0m\u001b[1;33m)\u001b[0m\u001b[1;33m\u001b[0m\u001b[1;33m\u001b[0m\u001b[0m\n",
      "\u001b[1;31mAttributeError\u001b[0m: 'tuple' object has no attribute 'append'"
     ]
    }
   ],
   "source": [
    "# they cann't be modified\n",
    "\n",
    "DS.append(\"Java\")\n",
    "DS.remove(\"Python\")\n"
   ]
  },
  {
   "cell_type": "markdown",
   "metadata": {},
   "source": [
    "\n",
    "\n",
    "\n",
    "---> <b>Not onlt it provides Read-only mode,  Faster that lists</b> \n",
    "\n",
    "\n",
    "\n",
    "\n",
    "\n",
    "\n"
   ]
  },
  {
   "cell_type": "markdown",
   "metadata": {},
   "source": [
    "\n",
    "<b> Common Operators in tuples</b>"
   ]
  },
  {
   "cell_type": "code",
   "execution_count": 13,
   "metadata": {},
   "outputs": [
    {
     "name": "stdout",
     "output_type": "stream",
     "text": [
      "('Samsung', 'LG', 'Vu', 'MI')\n",
      " \n",
      "('MI', 'Onida', 'Sony')\n"
     ]
    }
   ],
   "source": [
    "# Slicing\n",
    "\n",
    "brands=(\"Panasonic\", \"Samsung\", \"LG\", \"Vu\", \"MI\", \"Onida\", \"Sony\", \"Thomson\")\n",
    "\n",
    "print(brands[1:5])\n",
    "print(\" \")\n",
    "print(brands[-4:-1])"
   ]
  },
  {
   "cell_type": "code",
   "execution_count": 14,
   "metadata": {},
   "outputs": [
    {
     "name": "stdout",
     "output_type": "stream",
     "text": [
      "(1, 2, 3, 4, 5, 6, 7, 8, 9, 10)\n"
     ]
    }
   ],
   "source": [
    "# Tuple Addition\n",
    "#Nothing but tuple concationation\n",
    "\n",
    "tup1=(1,2,3,4,5)\n",
    "tup2=(6,7,8,9,10)\n",
    "tup3=tup1+tup2  # only tuples are allowd, other data type isn't allowed\n",
    "\n",
    "print(tup3)"
   ]
  },
  {
   "cell_type": "code",
   "execution_count": 15,
   "metadata": {},
   "outputs": [
    {
     "name": "stdout",
     "output_type": "stream",
     "text": [
      "(1, 'India', 2, 'AP', 3, 'Guntur', 1, 'India', 2, 'AP', 3, 'Guntur', 1, 'India', 2, 'AP', 3, 'Guntur')\n"
     ]
    }
   ],
   "source": [
    "# Tuple Multiplication\n",
    "\n",
    "tup1=(1,\"India\", 2,\"AP\", 3, \"Guntur\")\n",
    "tup2 = tup1*3\n",
    "print(tup2)"
   ]
  },
  {
   "cell_type": "markdown",
   "metadata": {},
   "source": [
    "\n",
    "\n",
    "<b> some basic functions</b>"
   ]
  },
  {
   "cell_type": "code",
   "execution_count": 17,
   "metadata": {},
   "outputs": [
    {
     "name": "stdout",
     "output_type": "stream",
     "text": [
      "3\n"
     ]
    }
   ],
   "source": [
    "#count()\n",
    "\n",
    "tup2=(1, 'India', 2, 'AP', 3, 'Guntur', 1, 'India', 2, 'AP', 3, 'Guntur', 1, 'India', 2, 'AP', 3, 'Guntur')\n",
    "print(tup2.count('Guntur'))"
   ]
  },
  {
   "cell_type": "code",
   "execution_count": 19,
   "metadata": {},
   "outputs": [
    {
     "name": "stdout",
     "output_type": "stream",
     "text": [
      "5\n"
     ]
    }
   ],
   "source": [
    "# len()\n",
    "\n",
    "branches= (\"ECE\", \"CSE\", \"EEE\", \"Mechanical\", \"Civil\")\n",
    "print(len(branches))"
   ]
  },
  {
   "cell_type": "code",
   "execution_count": 27,
   "metadata": {},
   "outputs": [
    {
     "name": "stdout",
     "output_type": "stream",
     "text": [
      "True\n",
      "False\n"
     ]
    }
   ],
   "source": [
    "#any()\n",
    "\n",
    "x=(1,4,9,16,25)\n",
    "y=()\n",
    "\n",
    "\n",
    "print(any(x))\n",
    "print(any(y))"
   ]
  },
  {
   "cell_type": "code",
   "execution_count": 29,
   "metadata": {},
   "outputs": [
    {
     "name": "stdout",
     "output_type": "stream",
     "text": [
      "('viswabharati', 'bhashyam', 'KKR', 'Sri Chaitanya', 'Narayana')\n",
      "<class 'tuple'>\n"
     ]
    }
   ],
   "source": [
    "# constructor\n",
    "\n",
    "lst=[\"viswabharati\", \"bhashyam\", \"KKR\", \"Sri Chaitanya\", \"Narayana\"]\n",
    "\n",
    "new_tup= tuple(lst)\n",
    "print(new_tup)\n",
    "print(type(new_tup))"
   ]
  },
  {
   "cell_type": "code",
   "execution_count": 57,
   "metadata": {},
   "outputs": [
    {
     "name": "stdout",
     "output_type": "stream",
     "text": [
      "1\n",
      "5\n"
     ]
    },
    {
     "ename": "TypeError",
     "evalue": "'<' not supported between instances of 'int' and 'str'",
     "output_type": "error",
     "traceback": [
      "\u001b[1;31m---------------------------------------------------------------------------\u001b[0m",
      "\u001b[1;31mTypeError\u001b[0m                                 Traceback (most recent call last)",
      "\u001b[1;32m<ipython-input-57-73de4f0c3509>\u001b[0m in \u001b[0;36m<module>\u001b[1;34m\u001b[0m\n\u001b[0;32m      6\u001b[0m \u001b[1;33m\u001b[0m\u001b[0m\n\u001b[0;32m      7\u001b[0m \u001b[0mcompany\u001b[0m\u001b[1;33m=\u001b[0m\u001b[1;33m(\u001b[0m\u001b[1;34m\"Google\"\u001b[0m\u001b[1;33m,\u001b[0m \u001b[1;34m\"Microsoft\"\u001b[0m\u001b[1;33m,\u001b[0m \u001b[1;34m\"Apple\"\u001b[0m\u001b[1;33m,\u001b[0m \u001b[1;34m\"Facebook\"\u001b[0m\u001b[1;33m,\u001b[0m \u001b[1;34m\"Zee\"\u001b[0m\u001b[1;33m,\u001b[0m\u001b[1;36m1\u001b[0m\u001b[1;33m)\u001b[0m\u001b[1;33m\u001b[0m\u001b[1;33m\u001b[0m\u001b[0m\n\u001b[1;32m----> 8\u001b[1;33m \u001b[0mprint\u001b[0m\u001b[1;33m(\u001b[0m\u001b[0mmin\u001b[0m\u001b[1;33m(\u001b[0m\u001b[0mcompany\u001b[0m\u001b[1;33m)\u001b[0m\u001b[1;33m)\u001b[0m\u001b[1;33m\u001b[0m\u001b[1;33m\u001b[0m\u001b[0m\n\u001b[0m\u001b[0;32m      9\u001b[0m \u001b[0mprint\u001b[0m\u001b[1;33m(\u001b[0m\u001b[0mmax\u001b[0m\u001b[1;33m(\u001b[0m\u001b[0mcompany\u001b[0m\u001b[1;33m)\u001b[0m\u001b[1;33m)\u001b[0m\u001b[1;33m\u001b[0m\u001b[1;33m\u001b[0m\u001b[0m\n",
      "\u001b[1;31mTypeError\u001b[0m: '<' not supported between instances of 'int' and 'str'"
     ]
    }
   ],
   "source": [
    "# min(), max()\n",
    "\n",
    "num=(1,2,3,4,5)\n",
    "print(min(num))\n",
    "print(max(num))\n",
    "\n",
    "company=(\"Google\", \"Microsoft\", \"Apple\", \"Facebook\", \"Zee\")\n",
    "print(min(company))\n",
    "print(max(company))\n"
   ]
  },
  {
   "cell_type": "code",
   "execution_count": 37,
   "metadata": {},
   "outputs": [
    {
     "name": "stdout",
     "output_type": "stream",
     "text": [
      "15\n"
     ]
    }
   ],
   "source": [
    "#sum\n",
    "\n",
    "n=(1,2,3,4,5)\n",
    "print(sum(n))"
   ]
  },
  {
   "cell_type": "code",
   "execution_count": 58,
   "metadata": {},
   "outputs": [
    {
     "name": "stdout",
     "output_type": "stream",
     "text": [
      "['Andhra Jyothi', 'Eenadu', 'Sakshi', 'Vartha']\n"
     ]
    }
   ],
   "source": [
    "#sorted\n",
    "\n",
    "a=(\"Sakshi\", \"Eenadu\", \"Andhra Jyothi\", \"Vartha\")\n",
    "print(sorted(a))"
   ]
  },
  {
   "cell_type": "code",
   "execution_count": 48,
   "metadata": {},
   "outputs": [
    {
     "name": "stdout",
     "output_type": "stream",
     "text": [
      "9\n",
      "4\n"
     ]
    }
   ],
   "source": [
    "# Assigning multiple values\n",
    "\n",
    "l=(4,9,4)\n",
    "\n",
    "(four,nine,four) = l\n",
    "\n",
    "\n",
    "print(nine)\n",
    "print(four)\n"
   ]
  },
  {
   "cell_type": "code",
   "execution_count": null,
   "metadata": {},
   "outputs": [],
   "source": []
  }
 ],
 "metadata": {
  "kernelspec": {
   "display_name": "Python 3",
   "language": "python",
   "name": "python3"
  },
  "language_info": {
   "codemirror_mode": {
    "name": "ipython",
    "version": 3
   },
   "file_extension": ".py",
   "mimetype": "text/x-python",
   "name": "python",
   "nbconvert_exporter": "python",
   "pygments_lexer": "ipython3",
   "version": "3.8.3"
  }
 },
 "nbformat": 4,
 "nbformat_minor": 4
}
