{
 "cells": [
  {
   "cell_type": "markdown",
   "metadata": {},
   "source": [
    "# Objects and Classes in Python\n",
    "\n",
    "\n",
    "--->  Python is one of the languages which obeys OOPs concepts.\n",
    "\n",
    "---> Widely used to write the powerful applications.\n",
    "\n",
    "\n",
    "---> Almost everything here is an Objects with properties/attributes and methods.\n",
    "\n",
    "\n",
    "\n"
   ]
  },
  {
   "cell_type": "markdown",
   "metadata": {},
   "source": [
    "<b>  Class </b>\n",
    "\n",
    "---> A classs is the blueprint for  objects creation \n",
    "\n",
    "\n",
    "<b> Example </b> "
   ]
  },
  {
   "cell_type": "code",
   "execution_count": 37,
   "metadata": {},
   "outputs": [],
   "source": [
    "class Cat:\n",
    "    pass"
   ]
  },
  {
   "cell_type": "markdown",
   "metadata": {},
   "source": [
    "<b> Objects </b>\n",
    "\n",
    "everything here is regarded as objects.\n",
    "\n",
    "<b> Example </b>"
   ]
  },
  {
   "cell_type": "code",
   "execution_count": 35,
   "metadata": {},
   "outputs": [
    {
     "name": "stdout",
     "output_type": "stream",
     "text": [
      "meow meow...\n"
     ]
    }
   ],
   "source": [
    "class Cat:\n",
    "    var=\"meow meow...\"\n",
    "    \n",
    "    \n",
    "New_Obj=Cat()\n",
    "print(New_Obj.var)"
   ]
  },
  {
   "cell_type": "markdown",
   "metadata": {},
   "source": [
    "<b> The __init__() Function </b>\n",
    "\n",
    "\n",
    "---> Above examples were basic, but for real time usage, we need this \"_init_() function\".\n",
    "\n",
    "\n",
    "---> To assign the values to all the object's properties.\n",
    "\n",
    "---> Every class must have this.\n",
    "\n",
    "\n",
    "<b> Example </b>\n"
   ]
  },
  {
   "cell_type": "code",
   "execution_count": 25,
   "metadata": {},
   "outputs": [
    {
     "name": "stdout",
     "output_type": "stream",
     "text": [
      "Palnadu SF Exp\n",
      "Guntur\n",
      " \n",
      "Janmabhoomi SF Exp\n",
      "Vizag\n",
      " \n"
     ]
    }
   ],
   "source": [
    "class Rail:\n",
    "  def __init__(self, name, division):\n",
    "    self.name = name\n",
    "    self.division = division\n",
    "  \n",
    "\n",
    "\n",
    "    \n",
    "\n",
    "\n",
    "p1 = Rail(\"Palnadu SF Exp\", \"Guntur\")\n",
    "p2 = Rail(\"Janmabhoomi SF Exp\", \"Vizag\")\n",
    "\n",
    "print(p1.name)\n",
    "print(p1.division)\n",
    "\n",
    "print(\" \")\n",
    "\n",
    "print(p2.name)\n",
    "print(p2.division)\n",
    "\n",
    "\n",
    "\n",
    "\n"
   ]
  },
  {
   "cell_type": "markdown",
   "metadata": {},
   "source": [
    "<b> Object Methods </b>"
   ]
  },
  {
   "cell_type": "code",
   "execution_count": 24,
   "metadata": {},
   "outputs": [
    {
     "name": "stdout",
     "output_type": "stream",
     "text": [
      "Palnadu SF Exp\n",
      "Guntur\n",
      " \n",
      "Janmabhoomi SF Exp\n",
      "Vizag\n",
      " \n",
      "Palnadu SF Exp is a Guntur bound train\n",
      "Janmabhoomi SF Exp is a Vizag bound train\n"
     ]
    }
   ],
   "source": [
    "class Rail:\n",
    "  def __init__(self, name, division):\n",
    "    self.name = name\n",
    "    self.division = division\n",
    "  \n",
    "\n",
    "  def Train(self):\n",
    "        print(self.name+ \" is a \"+ self.division + \" bound train\")\n",
    "    \n",
    "    \n",
    "\n",
    "\n",
    "p1 = Rail(\"Palnadu SF Exp\", \"Guntur\")\n",
    "p2 = Rail(\"Janmabhoomi SF Exp\", \"Vizag\")\n",
    "\n",
    "print(p1.name)\n",
    "print(p1.division)\n",
    "\n",
    "print(\" \")\n",
    "\n",
    "print(p2.name)\n",
    "print(p2.division)\n",
    "\n",
    "print(\" \")\n",
    "\n",
    "\n",
    "p1.Train()\n",
    "p2.Train()"
   ]
  },
  {
   "cell_type": "markdown",
   "metadata": {},
   "source": [
    "<b> Changing Object Properties </b> "
   ]
  },
  {
   "cell_type": "code",
   "execution_count": 27,
   "metadata": {},
   "outputs": [
    {
     "name": "stdout",
     "output_type": "stream",
     "text": [
      "Secunderabad\n",
      "\n",
      "Janmabhoomi SF Exp is a Secunderabad bound train\n"
     ]
    }
   ],
   "source": [
    "class Rail:\n",
    "  def __init__(self, name, division):\n",
    "    self.name = name\n",
    "    self.division = division\n",
    "    \n",
    "  \n",
    "  def Train(self):\n",
    "        print(self.name+ \" is a \"+ self.division + \" bound train\")\n",
    " \n",
    "\n",
    "\n",
    "p2 = Rail(\"Janmabhoomi SF Exp\", \"Vizag\")\n",
    "p2.division = \"Secunderabad\"\n",
    "\n",
    "print(p2.division)\n",
    "print(\"\")\n",
    "p2.Train()\n",
    "\n",
    "\n",
    "\n"
   ]
  },
  {
   "cell_type": "markdown",
   "metadata": {},
   "source": [
    "<b> To delete the object properties </b>"
   ]
  },
  {
   "cell_type": "code",
   "execution_count": 28,
   "metadata": {},
   "outputs": [
    {
     "ename": "AttributeError",
     "evalue": "'Rail' object has no attribute 'division'",
     "output_type": "error",
     "traceback": [
      "\u001b[1;31m---------------------------------------------------------------------------\u001b[0m",
      "\u001b[1;31mAttributeError\u001b[0m                            Traceback (most recent call last)",
      "\u001b[1;32m<ipython-input-28-c762909add29>\u001b[0m in \u001b[0;36m<module>\u001b[1;34m\u001b[0m\n\u001b[0;32m      8\u001b[0m \u001b[1;32mdel\u001b[0m \u001b[0mp2\u001b[0m\u001b[1;33m.\u001b[0m\u001b[0mdivision\u001b[0m\u001b[1;33m\u001b[0m\u001b[1;33m\u001b[0m\u001b[0m\n\u001b[0;32m      9\u001b[0m \u001b[1;33m\u001b[0m\u001b[0m\n\u001b[1;32m---> 10\u001b[1;33m \u001b[0mprint\u001b[0m\u001b[1;33m(\u001b[0m\u001b[0mp2\u001b[0m\u001b[1;33m.\u001b[0m\u001b[0mdivision\u001b[0m\u001b[1;33m)\u001b[0m\u001b[1;33m\u001b[0m\u001b[1;33m\u001b[0m\u001b[0m\n\u001b[0m\u001b[0;32m     11\u001b[0m \u001b[1;33m\u001b[0m\u001b[0m\n\u001b[0;32m     12\u001b[0m \u001b[1;33m\u001b[0m\u001b[0m\n",
      "\u001b[1;31mAttributeError\u001b[0m: 'Rail' object has no attribute 'division'"
     ]
    }
   ],
   "source": [
    "class Rail:\n",
    "  def __init__(self, name, division):\n",
    "    self.name = name\n",
    "    self.division = division\n",
    "    \n",
    "  \n",
    "p2 = Rail(\"Janmabhoomi SF Exp\", \"Vizag\")\n",
    "del p2.division\n",
    "\n",
    "print(p2.division)\n",
    "\n",
    "\n",
    "\n",
    "\n"
   ]
  },
  {
   "cell_type": "markdown",
   "metadata": {},
   "source": [
    "<b> Delete an Object </b>"
   ]
  },
  {
   "cell_type": "code",
   "execution_count": 31,
   "metadata": {},
   "outputs": [
    {
     "ename": "NameError",
     "evalue": "name 'p2' is not defined",
     "output_type": "error",
     "traceback": [
      "\u001b[1;31m---------------------------------------------------------------------------\u001b[0m",
      "\u001b[1;31mNameError\u001b[0m                                 Traceback (most recent call last)",
      "\u001b[1;32m<ipython-input-31-dcb6de0f3957>\u001b[0m in \u001b[0;36m<module>\u001b[1;34m\u001b[0m\n\u001b[0;32m      9\u001b[0m \u001b[1;32mdel\u001b[0m \u001b[0mp2\u001b[0m\u001b[1;33m\u001b[0m\u001b[1;33m\u001b[0m\u001b[0m\n\u001b[0;32m     10\u001b[0m \u001b[1;33m\u001b[0m\u001b[0m\n\u001b[1;32m---> 11\u001b[1;33m \u001b[0mprint\u001b[0m\u001b[1;33m(\u001b[0m\u001b[0mp2\u001b[0m\u001b[1;33m)\u001b[0m\u001b[1;33m\u001b[0m\u001b[1;33m\u001b[0m\u001b[0m\n\u001b[0m\u001b[0;32m     12\u001b[0m \u001b[1;33m\u001b[0m\u001b[0m\n\u001b[0;32m     13\u001b[0m \u001b[1;33m\u001b[0m\u001b[0m\n",
      "\u001b[1;31mNameError\u001b[0m: name 'p2' is not defined"
     ]
    }
   ],
   "source": [
    "class Rail:\n",
    "  def __init__(self, name, division):\n",
    "    self.name = name\n",
    "    self.division = division\n",
    "    \n",
    "  \n",
    "p2 = Rail(\"Janmabhoomi SF Exp\", \"Vizag\")\n",
    "\n",
    "del p2\n",
    "\n",
    "print(p2)\n",
    "\n",
    "\n",
    "\n",
    "\n"
   ]
  },
  {
   "cell_type": "code",
   "execution_count": null,
   "metadata": {},
   "outputs": [],
   "source": []
  }
 ],
 "metadata": {
  "kernelspec": {
   "display_name": "Python 3",
   "language": "python",
   "name": "python3"
  },
  "language_info": {
   "codemirror_mode": {
    "name": "ipython",
    "version": 3
   },
   "file_extension": ".py",
   "mimetype": "text/x-python",
   "name": "python",
   "nbconvert_exporter": "python",
   "pygments_lexer": "ipython3",
   "version": "3.8.3"
  }
 },
 "nbformat": 4,
 "nbformat_minor": 4
}
