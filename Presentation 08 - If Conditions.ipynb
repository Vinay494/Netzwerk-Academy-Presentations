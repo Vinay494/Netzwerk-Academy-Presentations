{
 "cells": [
  {
   "cell_type": "markdown",
   "metadata": {},
   "source": [
    "# If conditions in python\n",
    "\n",
    "\n",
    "\n",
    "---> Decesion Making while evalauting code of blocks.\n",
    "\n",
    "---> Would automate the decesion making process.\n",
    "\n",
    "---> 3 types: simple if, if-else, if-elif-else"
   ]
  },
  {
   "cell_type": "markdown",
   "metadata": {},
   "source": [
    "<b> simple if </b>"
   ]
  },
  {
   "cell_type": "code",
   "execution_count": 48,
   "metadata": {},
   "outputs": [
    {
     "name": "stdout",
     "output_type": "stream",
     "text": [
      "Subodhya\n"
     ]
    }
   ],
   "source": [
    "if (8<52):\n",
    " print(\"Subodhya\")"
   ]
  },
  {
   "cell_type": "code",
   "execution_count": 41,
   "metadata": {},
   "outputs": [
    {
     "name": "stdout",
     "output_type": "stream",
     "text": [
      "Nenu bagunnanu\n",
      "Nanu aramagiddene\n"
     ]
    }
   ],
   "source": [
    "if(\"Vinay\">\"Giraffe\"):\n",
    "    print(\"Nenu bagunnanu\")\n",
    "    print(\"Nanu aramagiddene\")"
   ]
  },
  {
   "cell_type": "code",
   "execution_count": 19,
   "metadata": {},
   "outputs": [
    {
     "name": "stdout",
     "output_type": "stream",
     "text": [
      "The game is not yet over\n"
     ]
    }
   ],
   "source": [
    "if([1,12,3]<[2,0,1]):\n",
    "    print(\"The game is not yet over\")"
   ]
  },
  {
   "cell_type": "markdown",
   "metadata": {},
   "source": [
    "<b> If else</b>"
   ]
  },
  {
   "cell_type": "code",
   "execution_count": 22,
   "metadata": {},
   "outputs": [
    {
     "name": "stdout",
     "output_type": "stream",
     "text": [
      "Python has got many sources to learn\n"
     ]
    }
   ],
   "source": [
    "if(2<4):\n",
    "    print(\"Python has got many sources to learn\")\n",
    "else:\n",
    "    print(\"Git hub is the best source to learn n revise\")"
   ]
  },
  {
   "cell_type": "markdown",
   "metadata": {},
   "source": [
    "<b> if-elif-else</b>"
   ]
  },
  {
   "cell_type": "code",
   "execution_count": 23,
   "metadata": {},
   "outputs": [
    {
     "name": "stdout",
     "output_type": "stream",
     "text": [
      "Good day is a nice one\n"
     ]
    }
   ],
   "source": [
    "if(False):\n",
    "    print(\"Havi a nice day\")\n",
    "elif(True):\n",
    "    print(\"Good day is a nice one\")\n",
    "else:\n",
    "    print(\"Nadikudi\")"
   ]
  },
  {
   "cell_type": "code",
   "execution_count": 24,
   "metadata": {},
   "outputs": [
    {
     "name": "stdout",
     "output_type": "stream",
     "text": [
      "This is not fair\n"
     ]
    }
   ],
   "source": [
    "if(100%3==0):\n",
    "    print(\"100 isdivided by 3\")\n",
    "elif(100%4==1):\n",
    "    print(\"There is no mysore in mysore bonda\")\n",
    "else:\n",
    "    print(\"This is not fair\")\n"
   ]
  },
  {
   "cell_type": "markdown",
   "metadata": {},
   "source": [
    "<b> Nested if </b>"
   ]
  },
  {
   "cell_type": "code",
   "execution_count": 52,
   "metadata": {},
   "outputs": [
    {
     "name": "stdout",
     "output_type": "stream",
     "text": [
      "Enter the balance available0\n",
      "Enter the due amount2345\n",
      "There is no balance\n"
     ]
    }
   ],
   "source": [
    "balance=int(input(\"Enter the balance available\"))\n",
    "due=int(input(\"Enter the due amount\"))\n",
    "\n",
    "if (balance !=  0):\n",
    "    if(balance > due):\n",
    "        balance=balance-due\n",
    "        print(balance)\n",
    "    else:\n",
    "        print(\"Balance is in sufficient\")\n",
    "else:\n",
    "    print(\"There is no balance\")"
   ]
  },
  {
   "cell_type": "markdown",
   "metadata": {},
   "source": [
    "<b> Or, And </b>"
   ]
  },
  {
   "cell_type": "code",
   "execution_count": 50,
   "metadata": {},
   "outputs": [
    {
     "name": "stdout",
     "output_type": "stream",
     "text": [
      "Atleast one has to be true\n"
     ]
    }
   ],
   "source": [
    "P=55\n",
    "Q=45\n",
    "R=35\n",
    "\n",
    "if(P>Q or R>Q):\n",
    "    print(\"Atleast one has to be true\")\n",
    "else:\n",
    "    print(\"Not expected like this guys !\")"
   ]
  },
  {
   "cell_type": "code",
   "execution_count": 51,
   "metadata": {},
   "outputs": [
    {
     "name": "stdout",
     "output_type": "stream",
     "text": [
      "You all are great\n"
     ]
    }
   ],
   "source": [
    "if( P>Q and R>Q):\n",
    "    print(\"This helps for better programming\")\n",
    "else:\n",
    "    print(\"You all are great\")"
   ]
  },
  {
   "cell_type": "markdown",
   "metadata": {},
   "source": [
    "<b> Short hand if-else </b>"
   ]
  },
  {
   "cell_type": "code",
   "execution_count": 38,
   "metadata": {},
   "outputs": [
    {
     "name": "stdout",
     "output_type": "stream",
     "text": [
      "it's morning\n"
     ]
    }
   ],
   "source": [
    "Temp1=20\n",
    "Temp2=40\n",
    "\n",
    "print(\"it's morning\") if Temp1<Temp2 else print(\"it's noon\") #terinary operation\n"
   ]
  },
  {
   "cell_type": "markdown",
   "metadata": {},
   "source": [
    "<b> can't be empty</b>"
   ]
  },
  {
   "cell_type": "code",
   "execution_count": 54,
   "metadata": {},
   "outputs": [],
   "source": [
    "if(1==1):\n",
    "    pass"
   ]
  },
  {
   "cell_type": "code",
   "execution_count": null,
   "metadata": {},
   "outputs": [],
   "source": []
  }
 ],
 "metadata": {
  "kernelspec": {
   "display_name": "Python 3",
   "language": "python",
   "name": "python3"
  },
  "language_info": {
   "codemirror_mode": {
    "name": "ipython",
    "version": 3
   },
   "file_extension": ".py",
   "mimetype": "text/x-python",
   "name": "python",
   "nbconvert_exporter": "python",
   "pygments_lexer": "ipython3",
   "version": "3.8.3"
  }
 },
 "nbformat": 4,
 "nbformat_minor": 4
}
