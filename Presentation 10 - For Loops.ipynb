{
 "cells": [
  {
   "cell_type": "markdown",
   "metadata": {},
   "source": [
    "# for loops\n",
    "\n",
    "\n",
    "---> for certain no. of times\n",
    "\n",
    "---> used to iterate through iterable objects.\n",
    "\n",
    "---> faster than while loop"
   ]
  },
  {
   "cell_type": "markdown",
   "metadata": {},
   "source": [
    "<b> syntax</b>\n",
    "\n",
    "    \n",
    "\n",
    "for i in iterable obj :\n",
    "\n",
    "\n",
    "\n",
    "    code block\n",
    "    \n",
    "    \n",
    "    \n",
    "    \n",
    "<b> Examples</b>"
   ]
  },
  {
   "cell_type": "code",
   "execution_count": 4,
   "metadata": {},
   "outputs": [
    {
     "name": "stdout",
     "output_type": "stream",
     "text": [
      "Welcome\n",
      "to\n",
      "my\n",
      "presentation\n"
     ]
    }
   ],
   "source": [
    "lst=[\"Welcome\",\"to\",\"my\",\"presentation\"]\n",
    "for element in lst:\n",
    "    print(element)"
   ]
  },
  {
   "cell_type": "code",
   "execution_count": 8,
   "metadata": {},
   "outputs": [
    {
     "name": "stdout",
     "output_type": "stream",
     "text": [
      "T\n",
      "h\n",
      "i\n",
      "s\n",
      "_\n",
      "S\n",
      "t\n",
      "r\n",
      "i\n",
      "n\n",
      "g\n"
     ]
    }
   ],
   "source": [
    "for index in \"This_String\":\n",
    "    print(index)"
   ]
  },
  {
   "cell_type": "markdown",
   "metadata": {},
   "source": [
    "<b>range()</b>\n",
    "    \n",
    "    \n",
    "syntax:\n",
    "    \n",
    "    \n",
    "---> range(start,stop,step)\n",
    "    \n",
    "\n",
    "    \n",
    "---> the stop value is exclusive"
   ]
  },
  {
   "cell_type": "code",
   "execution_count": 15,
   "metadata": {},
   "outputs": [
    {
     "name": "stdout",
     "output_type": "stream",
     "text": [
      "1\n",
      "2\n",
      "3\n",
      "4\n",
      "5\n",
      "6\n",
      "7\n",
      "8\n",
      "9\n"
     ]
    }
   ],
   "source": [
    "for i in range(1,10):\n",
    "    print(i)"
   ]
  },
  {
   "cell_type": "code",
   "execution_count": 56,
   "metadata": {},
   "outputs": [
    {
     "name": "stdout",
     "output_type": "stream",
     "text": [
      "100\n",
      "90\n",
      "80\n",
      "70\n",
      "60\n",
      "50\n",
      "40\n",
      "30\n",
      "20\n",
      "10\n"
     ]
    }
   ],
   "source": [
    "for i in range(100,0,-10):\n",
    "    print(i)"
   ]
  },
  {
   "cell_type": "code",
   "execution_count": 18,
   "metadata": {},
   "outputs": [
    {
     "name": "stdout",
     "output_type": "stream",
     "text": [
      "hi\n",
      "hi\n",
      "hi\n",
      "hi\n"
     ]
    }
   ],
   "source": [
    "for i in range(4): \n",
    "    print(\"hi\")"
   ]
  },
  {
   "cell_type": "markdown",
   "metadata": {},
   "source": [
    "<b>for else</b>"
   ]
  },
  {
   "cell_type": "code",
   "execution_count": 57,
   "metadata": {},
   "outputs": [
    {
     "name": "stdout",
     "output_type": "stream",
     "text": [
      "Day1: still there are 4days for the salary\n",
      "Day2: still there are 3days for the salary\n",
      "Day3: still there are 2days for the salary\n",
      "Day4: still there are 1days for the salary\n",
      "-------------------\n",
      "Hurray, got the salary\n"
     ]
    }
   ],
   "source": [
    "for i in range(1,5):\n",
    "    print(\"Day\"+ str(i)+\": still there are \"+ str(5-i) +\"days for the salary\")\n",
    "    \n",
    "else:\n",
    "    print(\"-------------------\")\n",
    "    print(\"Hurray, got the salary\")"
   ]
  },
  {
   "cell_type": "markdown",
   "metadata": {},
   "source": [
    "<b> Nested for loop </b>"
   ]
  },
  {
   "cell_type": "code",
   "execution_count": 31,
   "metadata": {},
   "outputs": [
    {
     "name": "stdout",
     "output_type": "stream",
     "text": [
      "Sanket  is good at Python\n",
      "Sanket  is quick learner\n",
      "Prasanna  is good at Python\n",
      "Prasanna  is quick learner\n",
      "Yashvardhan  is good at Python\n",
      "Yashvardhan  is quick learner\n"
     ]
    }
   ],
   "source": [
    "First=[\"Sanket \",\"Prasanna \",\"Yashvardhan \"]\n",
    "Last=[\"is good at Python\", \"is quick learner\"]\n",
    "\n",
    "\n",
    "for i in First:\n",
    "    for j in Last:\n",
    "        print(i,j)\n",
    "        \n",
    "        "
   ]
  },
  {
   "cell_type": "markdown",
   "metadata": {},
   "source": [
    "<B>Pattern printing </b>"
   ]
  },
  {
   "cell_type": "code",
   "execution_count": 53,
   "metadata": {},
   "outputs": [
    {
     "name": "stdout",
     "output_type": "stream",
     "text": [
      "* \r\n",
      "* * \r\n",
      "* * * \r\n",
      "* * * * \r\n",
      "* * * * * \r\n"
     ]
    }
   ],
   "source": [
    "\n",
    "for i in range(0, n):\n",
    "    for j in range(0, i+1): \n",
    "        print(\"* \",end=\"\")\n",
    "    print(\"\\r\")     # ending line after each row\n",
    "\n",
    "\n",
    "\n"
   ]
  },
  {
   "cell_type": "code",
   "execution_count": null,
   "metadata": {},
   "outputs": [],
   "source": []
  }
 ],
 "metadata": {
  "kernelspec": {
   "display_name": "Python 3",
   "language": "python",
   "name": "python3"
  },
  "language_info": {
   "codemirror_mode": {
    "name": "ipython",
    "version": 3
   },
   "file_extension": ".py",
   "mimetype": "text/x-python",
   "name": "python",
   "nbconvert_exporter": "python",
   "pygments_lexer": "ipython3",
   "version": "3.8.3"
  }
 },
 "nbformat": 4,
 "nbformat_minor": 4
}
