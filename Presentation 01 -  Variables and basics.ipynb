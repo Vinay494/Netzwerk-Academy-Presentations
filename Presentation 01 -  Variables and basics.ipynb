{
 "cells": [
  {
   "cell_type": "code",
   "execution_count": null,
   "metadata": {},
   "outputs": [],
   "source": [
    "\"Python is high level programming language\"\n",
    "\"Most sought out language\"\n",
    "\"Wide range of applications \"\n",
    "\"Large community\""
   ]
  },
  {
   "cell_type": "code",
   "execution_count": 2,
   "metadata": {},
   "outputs": [
    {
     "name": "stdout",
     "output_type": "stream",
     "text": [
      "5\n",
      "Vinay\n",
      "yes its variable\n"
     ]
    },
    {
     "data": {
      "text/plain": [
       "'\\nkey words usage\\n\\n6var=4\\n\\n9_var=6\\n\\n'"
      ]
     },
     "execution_count": 2,
     "metadata": {},
     "output_type": "execute_result"
    }
   ],
   "source": [
    "#Variables\n",
    "\n",
    "'''\n",
    "Data storage containe\n",
    "Dynamically Created\n",
    "Data type is not req. to mention\n",
    "'''\n",
    "\n",
    "x=5\n",
    "print(x)\n",
    "\n",
    "x=\"Vinay\"\n",
    "print(x)\n",
    "\n",
    "'''\n",
    "Naming convention\n",
    "\n",
    "(A-Z), (a-z), (0-9)(_)\n",
    "shoulnt starts with number\n",
    "\n",
    "'''\n",
    "\n",
    "\n",
    "\n",
    "#Legal naming convention\n",
    "\n",
    "var=5\n",
    "this_is_var= \"yes its variable\"\n",
    "\n",
    "print(this_is_var)\n",
    "\n",
    "\n",
    "\n",
    "# illegal naming convention\n",
    "\n",
    "'''\n",
    "key words usage\n",
    "\n",
    "6var=4\n",
    "\n",
    "9_var=6\n",
    "\n",
    "var-name = 8\n",
    "\n",
    "'''\n",
    "\n",
    "\n",
    "\n"
   ]
  },
  {
   "cell_type": "code",
   "execution_count": 1,
   "metadata": {},
   "outputs": [
    {
     "name": "stdout",
     "output_type": "stream",
     "text": [
      "Welcome to presentation\n",
      "Hello\n",
      "Python is cool\n",
      "5\n",
      "My name is Vinay\n"
     ]
    },
    {
     "ename": "TypeError",
     "evalue": "can only concatenate str (not \"int\") to str",
     "output_type": "error",
     "traceback": [
      "\u001b[1;31m---------------------------------------------------------------------------\u001b[0m",
      "\u001b[1;31mTypeError\u001b[0m                                 Traceback (most recent call last)",
      "\u001b[1;32m<ipython-input-1-4ac07cd51de6>\u001b[0m in \u001b[0;36m<module>\u001b[1;34m\u001b[0m\n\u001b[0;32m     26\u001b[0m \u001b[0mnum\u001b[0m\u001b[1;33m=\u001b[0m\u001b[1;36m123456790\u001b[0m\u001b[1;33m\u001b[0m\u001b[1;33m\u001b[0m\u001b[0m\n\u001b[0;32m     27\u001b[0m \u001b[1;33m\u001b[0m\u001b[0m\n\u001b[1;32m---> 28\u001b[1;33m \u001b[0mprint\u001b[0m\u001b[1;33m(\u001b[0m\u001b[1;34m\"I am from India, My name is \"\u001b[0m\u001b[1;33m+\u001b[0m \u001b[0mName\u001b[0m\u001b[1;33m+\u001b[0m \u001b[1;34m\"contact number is \"\u001b[0m\u001b[1;33m+\u001b[0m \u001b[0mnum\u001b[0m\u001b[1;33m)\u001b[0m\u001b[1;33m\u001b[0m\u001b[1;33m\u001b[0m\u001b[0m\n\u001b[0m\u001b[0;32m     29\u001b[0m \u001b[1;33m\u001b[0m\u001b[0m\n\u001b[0;32m     30\u001b[0m \u001b[1;33m\u001b[0m\u001b[0m\n",
      "\u001b[1;31mTypeError\u001b[0m: can only concatenate str (not \"int\") to str"
     ]
    }
   ],
   "source": [
    "# Some basic functions\n",
    "\n",
    "'''\n",
    "to displays the things\n",
    "\n",
    "\n",
    "'''\n",
    "\n",
    "\n",
    "print(\"Welcome to presentation\")\n",
    "print(\"Hello\")\n",
    "\n",
    "\n",
    "varab = \"Python is cool\"\n",
    "print(varab)\n",
    "\n",
    "\n",
    "num=5\n",
    "print(num)\n",
    "\n",
    "\n",
    "Name=\"Vinay\"\n",
    "print(\"My name is \"+ Name)\n",
    "\n",
    "\n",
    "num=123456790\n",
    "\n",
    "print(\"I am from India, My name is \"+ Name+ \"contact number is \"+ num)\n",
    "\n",
    "\n",
    "\n",
    "#single line comments\n",
    "'''\n",
    "this is the \n",
    "multi line comments\n",
    "for writing multiple comments\n",
    "'''\n",
    "\n",
    "\n",
    "\n"
   ]
  },
  {
   "cell_type": "code",
   "execution_count": 2,
   "metadata": {},
   "outputs": [
    {
     "name": "stdout",
     "output_type": "stream",
     "text": [
      "Enter the name python\n",
      "python\n"
     ]
    }
   ],
   "source": [
    "#input() \n",
    "\n",
    "\"Let user to give user inputs\"\n",
    "\n",
    "\n",
    "name=input(\"Enter the name \")\n",
    "print(name)\n",
    "\n"
   ]
  },
  {
   "cell_type": "code",
   "execution_count": 4,
   "metadata": {},
   "outputs": [
    {
     "name": "stdout",
     "output_type": "stream",
     "text": [
      "Enter another number5\n",
      "8\n"
     ]
    }
   ],
   "source": [
    "# By default takes string format\n",
    "\n",
    "#num=input(\"Enter number\")\n",
    "num=int(input(\"Enter another number\"))\n",
    "num=num+3\n",
    "print(num)"
   ]
  },
  {
   "cell_type": "code",
   "execution_count": null,
   "metadata": {},
   "outputs": [],
   "source": []
  }
 ],
 "metadata": {
  "kernelspec": {
   "display_name": "Python 3",
   "language": "python",
   "name": "python3"
  },
  "language_info": {
   "codemirror_mode": {
    "name": "ipython",
    "version": 3
   },
   "file_extension": ".py",
   "mimetype": "text/x-python",
   "name": "python",
   "nbconvert_exporter": "python",
   "pygments_lexer": "ipython3",
   "version": "3.8.3"
  }
 },
 "nbformat": 4,
 "nbformat_minor": 4
}
