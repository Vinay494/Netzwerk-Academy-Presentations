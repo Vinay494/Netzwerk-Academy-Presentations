{
 "cells": [
  {
   "cell_type": "markdown",
   "metadata": {},
   "source": [
    "# Dictionaries\n",
    "\n",
    "---> Data is stored in the form of (Key:Value) pairs\n",
    "\n",
    "---> Ordered, mutable, doesn't supports duplicates.\n",
    "\n",
    "\n",
    "\n",
    "\n",
    "<b> declaration </b>\n"
   ]
  },
  {
   "cell_type": "code",
   "execution_count": 8,
   "metadata": {},
   "outputs": [
    {
     "name": "stdout",
     "output_type": "stream",
     "text": [
      "{'Netzwerk': 'Institute', 'Vagesh': 'Trainer', 'Mansi': 'Student co-ordinator', 'we': 'Students'}\n",
      "<class 'dict'>\n"
     ]
    }
   ],
   "source": [
    "this_dict={\"Netzwerk\":\"Institute\", \"Vagesh\":\"Trainer\", \"Mansi\":\"Student co-ordinator\" ,\"we\":\"Students\"}\n",
    "\n",
    "print(this_dict)\n",
    "print(type(this_dict))"
   ]
  },
  {
   "cell_type": "code",
   "execution_count": 12,
   "metadata": {},
   "outputs": [
    {
     "ename": "SyntaxError",
     "evalue": "invalid syntax (<ipython-input-12-517c660a0081>, line 1)",
     "output_type": "error",
     "traceback": [
      "\u001b[1;36m  File \u001b[1;32m\"<ipython-input-12-517c660a0081>\"\u001b[1;36m, line \u001b[1;32m1\u001b[0m\n\u001b[1;33m    dup={\"Sanket\":\"Karntaka\", \"Yash\":\"prefinal year\", \"Prasanna\":\"RCB\", \"Yash:kannada\"}\u001b[0m\n\u001b[1;37m                                                                                      ^\u001b[0m\n\u001b[1;31mSyntaxError\u001b[0m\u001b[1;31m:\u001b[0m invalid syntax\n"
     ]
    }
   ],
   "source": [
    "# Duplicates are prohibited\n",
    "\n",
    "dup={\"Sanket\":\"Karntaka\", \"Yash\":\"prefinal year\", \"Prasanna\":\"RCB\", \"Yash:KGF\"}\n",
    "     \n",
    "\n",
    "print(dup)"
   ]
  },
  {
   "cell_type": "code",
   "execution_count": 15,
   "metadata": {},
   "outputs": [
    {
     "name": "stdout",
     "output_type": "stream",
     "text": [
      "Karntaka\n",
      "prefinal year\n",
      "RCB\n"
     ]
    }
   ],
   "source": [
    "# Accessing the elements present\n",
    "\n",
    "\n",
    "print(dup['Sanket'])\n",
    "print(dup['Yash'])\n",
    "print(dup['Prasanna'])"
   ]
  },
  {
   "cell_type": "code",
   "execution_count": 16,
   "metadata": {},
   "outputs": [
    {
     "name": "stdout",
     "output_type": "stream",
     "text": [
      "dict_items([('Sanket', 'Karntaka'), ('Yash', 'prefinal year'), ('Prasanna', 'RCB')])\n"
     ]
    }
   ],
   "source": [
    "# to get all key:value pairs, items()\n",
    "\n",
    "print(dup.items())\n"
   ]
  },
  {
   "cell_type": "code",
   "execution_count": 10,
   "metadata": {},
   "outputs": [
    {
     "name": "stdout",
     "output_type": "stream",
     "text": [
      "Yash\n",
      "Puneeth Raj Kumar\n",
      "Darshan\n",
      "Kitcha Sudeep\n",
      "Upendra\n",
      " \n",
      "78\n",
      "82\n",
      "74\n",
      "95\n",
      "90\n",
      "\n",
      "Yash 78\n",
      "Puneeth Raj Kumar 82\n",
      "Darshan 74\n",
      "Kitcha Sudeep 95\n",
      "Upendra 90\n"
     ]
    }
   ],
   "source": [
    "#Looping through\n",
    "\n",
    "student_marks={\"Yash\":78,\"Puneeth Raj Kumar\":82,\"Darshan\":74, \"Kitcha Sudeep\":95,\"Upendra\":90}\n",
    "for key in student_marks:\n",
    "    print(key)\n",
    "    \n",
    "print(\" \")\n",
    "\n",
    "for values in student_marks.values():\n",
    "    print(values)\n",
    "print(\"\")\n",
    "\n",
    "for (x,y) in student_marks.items():\n",
    "    print(x,y)\n",
    "    "
   ]
  },
  {
   "cell_type": "code",
   "execution_count": 6,
   "metadata": {},
   "outputs": [
    {
     "name": "stdout",
     "output_type": "stream",
     "text": [
      "{'Prabhas': {'Mr.Perfect', 'darling'}, 'Tarak': {'Temper', 'Badsha', 'Brindavanam'}, 'Allu Arjun': {'Arya-2', 'Yevadu'}, 'Ram Charan': {'Maghadeera', 'GAV', 'Nayak'}, 'Mega Star': {'Kaidhi no. 150', 'Acharya'}, 'Mahesh Babu': {'Business Man', 'Bramhotsavam'}}\n",
      " \n",
      "{'Mr.Perfect', 'darling'}\n"
     ]
    }
   ],
   "source": [
    "# Nested Dictionary\n",
    "\n",
    "kajal={\"Prabhas\":{\"darling\",\"Mr.Perfect\"}, \"Tarak\":{\"Brindavanam\",\"Badsha\",\"Temper\"}, \"Allu Arjun\":{\"Arya-2\", \"Yevadu\"}, \"Ram Charan\":{\"Maghadeera\", \"Nayak\",\"GAV\"},\"Mega Star\":{\"Kaidhi no. 150\", \"Acharya\"}, \"Mahesh Babu\":{\"Business Man\", \"Bramhotsavam\"}}\n",
    "print(kajal)\n",
    "print(\" \")\n",
    "print(kajal[\"Prabhas\"])"
   ]
  },
  {
   "cell_type": "code",
   "execution_count": 27,
   "metadata": {},
   "outputs": [
    {
     "name": "stdout",
     "output_type": "stream",
     "text": [
      "{'Sanket': 'Karntaka', 'Yash': 'prefinal year', 'Prasanna': 'Google CEO', 'SK': 'Ford Owner'}\n"
     ]
    }
   ],
   "source": [
    "#Updating\n",
    "\n",
    "dup[\"Prasanna\"]=\"Google CEO\" \n",
    "dup[\"SK\"]=\"Ford Owner\"\n",
    "\n",
    "\n",
    "print(dup)\n",
    "\n",
    "\n",
    "\n"
   ]
  },
  {
   "cell_type": "code",
   "execution_count": 33,
   "metadata": {},
   "outputs": [
    {
     "name": "stdout",
     "output_type": "stream",
     "text": [
      "Not found\n"
     ]
    }
   ],
   "source": [
    "# to know if a key present or not\n",
    "\n",
    "if \"Netzwerk\" in dup:\n",
    "    print(\"Yes, it's there\")\n",
    "else:\n",
    "    print(\"Not found\")"
   ]
  },
  {
   "cell_type": "markdown",
   "metadata": {},
   "source": [
    "<b> Adding items</b>"
   ]
  },
  {
   "cell_type": "code",
   "execution_count": 37,
   "metadata": {},
   "outputs": [
    {
     "name": "stdout",
     "output_type": "stream",
     "text": [
      "{'brand': 'Samsung', 'model': 'Galaxy', 'year': 2018}\n",
      "{'brand': 'Samsung', 'model': 'Galaxy', 'year': 2018, 'color': 'black'}\n"
     ]
    }
   ],
   "source": [
    "this_dict = {\n",
    "  \"brand\": \"Samsung\",\n",
    "  \"model\": \"Galaxy\",\n",
    "  \"year\": 2018\n",
    "}\n",
    "print(this_dict)\n",
    "\n",
    "this_dict.update({\"color\": \"black\"})\n",
    "\n",
    "print(this_dict)\n",
    "\n"
   ]
  },
  {
   "cell_type": "code",
   "execution_count": 38,
   "metadata": {},
   "outputs": [
    {
     "name": "stdout",
     "output_type": "stream",
     "text": [
      "{'brand': 'Samsung', 'model': 'Galaxy', 'year': 2018, 'color': 'black', 'battery capacity': '4800mah'}\n"
     ]
    }
   ],
   "source": [
    "this_dict[\"battery capacity\"]=\"4800mah\"\n",
    "print(this_dict)"
   ]
  },
  {
   "cell_type": "markdown",
   "metadata": {},
   "source": [
    "<b> Removing item </b>"
   ]
  },
  {
   "cell_type": "code",
   "execution_count": 11,
   "metadata": {},
   "outputs": [
    {
     "name": "stdout",
     "output_type": "stream",
     "text": [
      "{'Andhra Pradesh': 'Vizag', 'Karnataka': 'Bangalore', 'Kerla': 'Tiruvunanthapuram', 'Telangana': 'Hyderabad', 'Madya Pradesh': 'Bhopal', 'Tamil Nadu': 'Chennai', 'West Bengal': 'Kolkatta'}\n"
     ]
    }
   ],
   "source": [
    "my_dict={\"Andhra Pradesh\":\"Vizag\", \"Karnataka\":\"Bangalore\",\"Kerla\":\"Tiruvunanthapuram\",\"Telangana\":\"Hyderabad\", \"Madya Pradesh\":\"Bhopal\",\"Tamil Nadu\":\"Chennai\", \"Orissa\":\"Bhubaneswar\", \"West Bengal\":\"Kolkatta\"}\n",
    "my_dict.pop(\"Orissa\")\n",
    "print(my_dict)"
   ]
  },
  {
   "cell_type": "code",
   "execution_count": 12,
   "metadata": {},
   "outputs": [
    {
     "name": "stdout",
     "output_type": "stream",
     "text": [
      "{'Andhra Pradesh': 'Vizag', 'Karnataka': 'Bangalore', 'Kerla': 'Tiruvunanthapuram', 'Telangana': 'Hyderabad', 'Madya Pradesh': 'Bhopal', 'Tamil Nadu': 'Chennai'}\n"
     ]
    }
   ],
   "source": [
    "my_dict.popitem()\n",
    "print(my_dict)"
   ]
  },
  {
   "cell_type": "code",
   "execution_count": 41,
   "metadata": {},
   "outputs": [
    {
     "name": "stdout",
     "output_type": "stream",
     "text": [
      "{'Andhra Pradesh': 'Vizag', 'Karnataka': 'Bangalore', 'Kerla': 'Tiruvunanthapuram', 'Telangana': 'Hyderabad'}\n"
     ]
    }
   ],
   "source": [
    "del my_dict[\"Tamil Nadu\"]\n",
    "print(my_dict)"
   ]
  },
  {
   "cell_type": "code",
   "execution_count": 42,
   "metadata": {},
   "outputs": [
    {
     "name": "stdout",
     "output_type": "stream",
     "text": [
      "{}\n"
     ]
    }
   ],
   "source": [
    "my_dict.clear()\n",
    "print(my_dict)"
   ]
  },
  {
   "cell_type": "code",
   "execution_count": null,
   "metadata": {},
   "outputs": [],
   "source": []
  }
 ],
 "metadata": {
  "kernelspec": {
   "display_name": "Python 3",
   "language": "python",
   "name": "python3"
  },
  "language_info": {
   "codemirror_mode": {
    "name": "ipython",
    "version": 3
   },
   "file_extension": ".py",
   "mimetype": "text/x-python",
   "name": "python",
   "nbconvert_exporter": "python",
   "pygments_lexer": "ipython3",
   "version": "3.8.3"
  }
 },
 "nbformat": 4,
 "nbformat_minor": 4
}
