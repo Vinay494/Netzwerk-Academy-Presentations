{
 "cells": [
  {
   "cell_type": "markdown",
   "metadata": {},
   "source": [
    "# While loops \n",
    "\n",
    "---> Meant for executing repetative code blocks.\n",
    "\n",
    "---> While the condition is true only."
   ]
  },
  {
   "cell_type": "markdown",
   "metadata": {},
   "source": [
    "<b> Syntax </b>\n",
    "\n",
    "while (Condition):\n",
    "\n",
    "    code block while the condition is true\n",
    "    \n",
    "    updating the condition part  \n",
    "    \n",
    "    \n",
    "<b>Example<b>"
   ]
  },
  {
   "cell_type": "code",
   "execution_count": null,
   "metadata": {},
   "outputs": [],
   "source": [
    "dose=13\n",
    "while dose>0 :\n",
    "    print(str(dose)+\" Pls come in to get vaccinated\")\n",
    "    dose-=1 #make sure to update this, else it leads to infinite loop"
   ]
  },
  {
   "cell_type": "markdown",
   "metadata": {},
   "source": [
    "<b> break, continue <b>"
   ]
  },
  {
   "cell_type": "code",
   "execution_count": 5,
   "metadata": {},
   "outputs": [
    {
     "name": "stdout",
     "output_type": "stream",
     "text": [
      "10 Go n grab ur 1st dose of Jab\n",
      "9 Go n grab ur 1st dose of Jab\n",
      "8 Go n grab ur 1st dose of Jab\n",
      "7 Go n grab ur 1st dose of Jab\n",
      "6 Go n grab ur 1st dose of Jab\n"
     ]
    }
   ],
   "source": [
    "dose_available=10\n",
    "while dose_available>0:\n",
    "    print(str(dose_available)+\" Go n grab ur 1st dose of Jab\")\n",
    "    if dose_available==6:\n",
    "        break # like the next half of the jabs for 2nd dose ppl\n",
    "    dose_available-=1"
   ]
  },
  {
   "cell_type": "code",
   "execution_count": 4,
   "metadata": {},
   "outputs": [
    {
     "name": "stdout",
     "output_type": "stream",
     "text": [
      "9 Go n grab ur 1st dose of Jab\n",
      "8 Go n grab ur 1st dose of Jab\n",
      "7 Go n grab ur 1st dose of Jab\n",
      "5 Go n grab ur 1st dose of Jab\n",
      "4 Go n grab ur 1st dose of Jab\n",
      "3 Go n grab ur 1st dose of Jab\n",
      "2 Go n grab ur 1st dose of Jab\n",
      "1 Go n grab ur 1st dose of Jab\n",
      "0 Go n grab ur 1st dose of Jab\n"
     ]
    }
   ],
   "source": [
    "doses_available=10\n",
    "while doses_available>0:\n",
    "    doses_available-=1\n",
    "    if doses_available==6:\n",
    "            \n",
    "            continue # like if a particular dose is received faulty\n",
    "    print(str(doses_available) +\" Go n grab ur 1st dose of Jab\")\n",
    " "
   ]
  },
  {
   "cell_type": "markdown",
   "metadata": {},
   "source": [
    "<b> While-else<b>"
   ]
  },
  {
   "cell_type": "code",
   "execution_count": 7,
   "metadata": {},
   "outputs": [
    {
     "name": "stdout",
     "output_type": "stream",
     "text": [
      "8 Come and get the vaccine\n",
      "7 Come and get the vaccine\n",
      "6 Come and get the vaccine\n",
      "5 Come and get the vaccine\n",
      "4 Come and get the vaccine\n",
      "3 Come and get the vaccine\n",
      "2 Come and get the vaccine\n",
      "1 Come and get the vaccine\n",
      "\n",
      "Today the vaccination is over\n"
     ]
    }
   ],
   "source": [
    "vaccine =8\n",
    "while vaccine>0 :\n",
    "    print(str(vaccine)+\" Come and get the vaccine\")\n",
    "    vaccine-=1\n",
    "    \n",
    "else:\n",
    "    print(\"\")\n",
    "    print(\"Today the vaccination is over\")"
   ]
  },
  {
   "cell_type": "code",
   "execution_count": null,
   "metadata": {},
   "outputs": [],
   "source": []
  }
 ],
 "metadata": {
  "kernelspec": {
   "display_name": "Python 3",
   "language": "python",
   "name": "python3"
  },
  "language_info": {
   "codemirror_mode": {
    "name": "ipython",
    "version": 3
   },
   "file_extension": ".py",
   "mimetype": "text/x-python",
   "name": "python",
   "nbconvert_exporter": "python",
   "pygments_lexer": "ipython3",
   "version": "3.8.3"
  }
 },
 "nbformat": 4,
 "nbformat_minor": 4
}
