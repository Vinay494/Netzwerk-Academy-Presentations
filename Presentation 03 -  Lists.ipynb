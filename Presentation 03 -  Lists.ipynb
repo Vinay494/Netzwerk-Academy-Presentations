{
 "cells": [
  {
   "cell_type": "markdown",
   "metadata": {},
   "source": [
    "# Lists:\n",
    "\n",
    "--> collection of data type, [], comma seperated, different data types. \n",
    "\n",
    "--> Indexing starts from 0\n",
    "\n",
    "--> Ordered, mutable and allows duplicate values,mutable, \n",
    "\n",
    "\n",
    "\n",
    "\n",
    "<b> Creating a list</b>\n"
   ]
  },
  {
   "cell_type": "code",
   "execution_count": 5,
   "metadata": {},
   "outputs": [
    {
     "name": "stdout",
     "output_type": "stream",
     "text": [
      "['Vinay', 494, 'Hyderabad', 28.05, True]\n",
      "5\n",
      "[2, 4, 8, 16, 32]\n"
     ]
    }
   ],
   "source": [
    "\n",
    "my_list= [\"Vinay\", 494, \"Hyderabad\", 28.05, True]\n",
    "print(my_list)\n",
    "print(len(my_list))\n",
    "\n",
    "\n",
    "tup2list= list((2,4,8,16,32))\n",
    "print(tup2list)"
   ]
  },
  {
   "cell_type": "markdown",
   "metadata": {},
   "source": [
    "\n",
    "\n",
    "\n",
    "<b> Accessing elements</b>"
   ]
  },
  {
   "cell_type": "code",
   "execution_count": 38,
   "metadata": {},
   "outputs": [
    {
     "name": "stdout",
     "output_type": "stream",
     "text": [
      "VNRSF\n",
      "Sahithi Vanam\n"
     ]
    }
   ],
   "source": [
    "Teams=[\"VNRSF\", \"NSS\", \"Stentorian\", \"Ecficio\", \"Sahithi Vanam\"]\n",
    "\n",
    "print(Teams[0])\n",
    "print(Teams[-1])\n",
    "\n"
   ]
  },
  {
   "cell_type": "markdown",
   "metadata": {},
   "source": [
    "<b> Slicing</b>"
   ]
  },
  {
   "cell_type": "code",
   "execution_count": 16,
   "metadata": {},
   "outputs": [
    {
     "name": "stdout",
     "output_type": "stream",
     "text": [
      "[(56+2j), 'Netzwerk', False, 421.0, 'SRH']\n",
      "[1, (56+2j), 'Netzwerk', False, 421.0]\n",
      "[False, 421.0, 'SRH', 'KPHB', 'SSR']\n",
      "[False, 421.0, 'SRH', 'KPHB']\n",
      "Yes, it's correct\n"
     ]
    }
   ],
   "source": [
    "Mixed=[1, 56+2j, \"Netzwerk\", False, 421.00, \"SRH\" , \"KPHB\", \"SSR\"]\n",
    "\n",
    "print(Mixed[1:6])\n",
    "print(Mixed[:5])\n",
    "print(Mixed[3:])\n",
    "\n",
    "print(Mixed[-5:-1])\n",
    "\n",
    "\n",
    "if \"SRH\" in Mixed:\n",
    "    print(\"Yes, it's correct\")\n",
    "    \n",
    "    \n"
   ]
  },
  {
   "cell_type": "markdown",
   "metadata": {},
   "source": [
    "\n",
    "\n",
    "\n",
    "<b> changing/removing a value </b>"
   ]
  },
  {
   "cell_type": "code",
   "execution_count": 23,
   "metadata": {},
   "outputs": [
    {
     "name": "stdout",
     "output_type": "stream",
     "text": [
      "['Chatrapati', 'Varsham', 'Chakram', 'Billa', ' Happy', 'Mirchi', 'Rebel']\n",
      "['Chatrapati', 'Varsham', 'Chakram', 'Bujjigadu', 'Yogi', 'Mirchi', 'Rebel']\n",
      "['apple', 'watermelon', 'grapes']\n",
      "['apple', 'pineapple', 'watermelon', 'grapes']\n"
     ]
    }
   ],
   "source": [
    "Movies=[\"Chatrapati\",\"Varsham\",\"Chakram\", \"Arya\", \" Happy\", \"Mirchi\", \"Rebel\"]\n",
    "Movies[3]=\"Billa\"\n",
    "\n",
    "\n",
    "print(Movies)\n",
    "Movies[3:5]=[\"Bujjigadu\", \"Yogi\"]\n",
    "print(Movies)\n",
    "\n",
    "\n",
    "the_list = [\"apple\", \"banana\", \"cherry\", \"kiwi\" , \"grapes\"]\n",
    "the_list[1:4] = [\"watermelon\"]\n",
    "\n",
    "print(the_list)\n",
    "\n",
    "the_list.insert(1, \"pineapple\")\n",
    "print(the_list)\n"
   ]
  },
  {
   "cell_type": "markdown",
   "metadata": {},
   "source": [
    "\n",
    "\n",
    "<b> Add list items</b>"
   ]
  },
  {
   "cell_type": "code",
   "execution_count": 28,
   "metadata": {},
   "outputs": [
    {
     "name": "stdout",
     "output_type": "stream",
     "text": [
      "['SRH', 'RCB', 'CSK', 'MI', 'KKR', 'DC']\n",
      "['SRH', 'RCB', 'CSK', 'RR', 'MI', 'KKR', 'DC']\n",
      "['SRH', 'RCB', 'CSK', 'RR', 'MI', 'KKR', 'DC', 'MSD', 'KK', 'DW', 'RS', 'DK']\n",
      "['MSD', 'KK', 'DW', 'RS', 'DK', 1, 2, 3, 4, 5]\n"
     ]
    }
   ],
   "source": [
    "ipl=[\"SRH\", \"RCB\", \"CSK\", \"MI\", \"KKR\"]\n",
    "\n",
    "ipl.append(\"DC\")\n",
    "print(ipl)\n",
    "\n",
    "ipl.insert(3, \"RR\")\n",
    "print(ipl)\n",
    "\n",
    "\n",
    "captains=[\"MSD\", \"KK\", \"DW\", \"RS\", \"DK\"]\n",
    "ipl.extend(captains)\n",
    "\n",
    "print(ipl)\n",
    "\n",
    "\n",
    "tup=(1,2,3,4,5)\n",
    "\n",
    "captains.extend(tup)\n",
    "print(captains)"
   ]
  },
  {
   "cell_type": "markdown",
   "metadata": {},
   "source": [
    "\n",
    "\n",
    "\n",
    "<b> Remove list items</b>"
   ]
  },
  {
   "cell_type": "code",
   "execution_count": 36,
   "metadata": {},
   "outputs": [
    {
     "name": "stdout",
     "output_type": "stream",
     "text": [
      "['Soldier', 'Farmer', 'Teacher', 'Accountant', 'Civil Servant', 'CA', 'Software Engineer']\n",
      "['Soldier', 'Farmer', 'Teacher', 'Civil Servant', 'CA', 'Software Engineer']\n",
      "['Soldier', 'Farmer', 'Teacher', 'Civil Servant', 'CA']\n",
      "['Soldier', 'Farmer', 'Teacher', 'CA']\n",
      "[]\n"
     ]
    }
   ],
   "source": [
    "Tech=[\"Soldier\", \"Farmer\", \"Teacher\", \"Accountant\", \"Civil Servant\", \"Manager\", \"CA\" , \"Software Engineer\"]\n",
    "\n",
    "Tech.remove(\"Manager\")\n",
    "\n",
    "print(Tech)\n",
    "\n",
    "\n",
    "Tech.pop(3)\n",
    "print(Tech)\n",
    "\n",
    "\n",
    "Tech.pop()\n",
    "print(Tech)\n",
    "\n",
    "\n",
    "del Tech[3]\n",
    "print(Tech)\n",
    "\n",
    "\n",
    "Tech.clear()\n",
    "print(Tech)"
   ]
  },
  {
   "cell_type": "code",
   "execution_count": null,
   "metadata": {},
   "outputs": [],
   "source": []
  }
 ],
 "metadata": {
  "kernelspec": {
   "display_name": "Python 3",
   "language": "python",
   "name": "python3"
  },
  "language_info": {
   "codemirror_mode": {
    "name": "ipython",
    "version": 3
   },
   "file_extension": ".py",
   "mimetype": "text/x-python",
   "name": "python",
   "nbconvert_exporter": "python",
   "pygments_lexer": "ipython3",
   "version": "3.8.3"
  }
 },
 "nbformat": 4,
 "nbformat_minor": 4
}
