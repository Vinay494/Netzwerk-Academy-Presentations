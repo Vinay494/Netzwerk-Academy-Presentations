{
 "cells": [
  {
   "cell_type": "markdown",
   "metadata": {},
   "source": [
    "# Sets\n",
    "\n",
    "--> Collection data type, unordered, unindexed, mutable, duplicates are allowed\n",
    "\n",
    "\n",
    "\n",
    "<b>creating a set</b>"
   ]
  },
  {
   "cell_type": "code",
   "execution_count": 17,
   "metadata": {},
   "outputs": [
    {
     "name": "stdout",
     "output_type": "stream",
     "text": [
      "{'C', 'Java', 'Python', 'R', 'Go', 'C++'}\n",
      "<class 'set'>\n"
     ]
    }
   ],
   "source": [
    "prog={\"Python\", \"Java\", \"C\", \"C++\", \"R\", \"Go\"}\n",
    "print(prog)\n",
    "print(type(prog))"
   ]
  },
  {
   "cell_type": "markdown",
   "metadata": {},
   "source": [
    "<b> Indexing & Slicing doesn't work here </b>"
   ]
  },
  {
   "cell_type": "code",
   "execution_count": 18,
   "metadata": {},
   "outputs": [
    {
     "ename": "TypeError",
     "evalue": "'set' object is not subscriptable",
     "output_type": "error",
     "traceback": [
      "\u001b[1;31m---------------------------------------------------------------------------\u001b[0m",
      "\u001b[1;31mTypeError\u001b[0m                                 Traceback (most recent call last)",
      "\u001b[1;32m<ipython-input-18-cfc0e0eb9f15>\u001b[0m in \u001b[0;36m<module>\u001b[1;34m\u001b[0m\n\u001b[1;32m----> 1\u001b[1;33m \u001b[0mprint\u001b[0m\u001b[1;33m(\u001b[0m\u001b[0mprog\u001b[0m\u001b[1;33m[\u001b[0m\u001b[1;36m0\u001b[0m\u001b[1;33m]\u001b[0m\u001b[1;33m)\u001b[0m\u001b[1;33m\u001b[0m\u001b[1;33m\u001b[0m\u001b[0m\n\u001b[0m",
      "\u001b[1;31mTypeError\u001b[0m: 'set' object is not subscriptable"
     ]
    }
   ],
   "source": [
    "print(prog[0])"
   ]
  },
  {
   "cell_type": "markdown",
   "metadata": {},
   "source": [
    "<b> Iteration <b>"
   ]
  },
  {
   "cell_type": "code",
   "execution_count": 20,
   "metadata": {},
   "outputs": [
    {
     "name": "stdout",
     "output_type": "stream",
     "text": [
      "C\n",
      "Java\n",
      "Python\n",
      "R\n",
      "Go\n",
      "C++\n"
     ]
    }
   ],
   "source": [
    "for values in prog:\n",
    "    print(values)"
   ]
  },
  {
   "cell_type": "markdown",
   "metadata": {},
   "source": [
    "<b> Update the set </b>\n",
    "\n",
    ".update() & .add()"
   ]
  },
  {
   "cell_type": "code",
   "execution_count": 46,
   "metadata": {},
   "outputs": [
    {
     "name": "stdout",
     "output_type": "stream",
     "text": [
      "{'CBN', 'Kiran Kumar Reddy', 'YS Jagan', 'YS Rajashekar Reddy'}\n",
      "\n",
      "{'N', 'YS Jagan', 'T', 'R', 'CBN', 'Kiran Kumar Reddy', 'YS Rajashekar Reddy'}\n",
      " \n",
      "{'N', 'YS Jagan', 'T', 'Kotla Vijaya Bhaskara Reddy', 'R', 'CBN', 'Neelam Sanjeev Reddy', 'Kiran Kumar Reddy', 'YS Rajashekar Reddy'}\n"
     ]
    }
   ],
   "source": [
    "CM={\"YS Rajashekar Reddy\", \"CBN\", \"Kiran Kumar Reddy\"}\n",
    "CM.add(\"YS Jagan\")\n",
    "print(CM)\n",
    "print(\"\")\n",
    "\n",
    "CM.update(\"NTR\")\n",
    "print(CM) \n",
    "\n",
    "print(\" \")\n",
    "\n",
    "CM.update({\"Neelam Sanjeev Reddy\", \"Kotla Vijaya Bhaskara Reddy\"})\n",
    "print(CM)\n",
    "\n"
   ]
  },
  {
   "cell_type": "markdown",
   "metadata": {},
   "source": [
    "<b> Removing items</b>"
   ]
  },
  {
   "cell_type": "code",
   "execution_count": 34,
   "metadata": {},
   "outputs": [
    {
     "name": "stdout",
     "output_type": "stream",
     "text": [
      "{'Vijayawada', 'Guntakal', 'Guntur', 'Hyderabad', 'Secunderabad'}\n"
     ]
    }
   ],
   "source": [
    "Divisions={\"Secunderabad\",\"Hyderabad\",\"Vijayawada\",\"Guntur\",\"Guntakal\",\"Nanded\"}\n",
    "Divisions.discard(\"Nanded\")\n",
    "Divisions.discard(\"Bangalore\")\n",
    "print(Divisions)"
   ]
  },
  {
   "cell_type": "code",
   "execution_count": 37,
   "metadata": {},
   "outputs": [
    {
     "ename": "KeyError",
     "evalue": "'Bangalore'",
     "output_type": "error",
     "traceback": [
      "\u001b[1;31m---------------------------------------------------------------------------\u001b[0m",
      "\u001b[1;31mKeyError\u001b[0m                                  Traceback (most recent call last)",
      "\u001b[1;32m<ipython-input-37-40ed1e0f0d9d>\u001b[0m in \u001b[0;36m<module>\u001b[1;34m\u001b[0m\n\u001b[1;32m----> 1\u001b[1;33m \u001b[0mDivisions\u001b[0m\u001b[1;33m.\u001b[0m\u001b[0mremove\u001b[0m\u001b[1;33m(\u001b[0m\u001b[1;34m\"Bangalore\"\u001b[0m\u001b[1;33m)\u001b[0m\u001b[1;33m\u001b[0m\u001b[1;33m\u001b[0m\u001b[0m\n\u001b[0m",
      "\u001b[1;31mKeyError\u001b[0m: 'Bangalore'"
     ]
    }
   ],
   "source": [
    "Divisions.remove(\"Bangalore\")\n"
   ]
  },
  {
   "cell_type": "code",
   "execution_count": 36,
   "metadata": {},
   "outputs": [
    {
     "name": "stdout",
     "output_type": "stream",
     "text": [
      "{'Guntakal', 'Guntur', 'Hyderabad', 'Secunderabad'}\n"
     ]
    }
   ],
   "source": [
    "Divisions.pop()\n",
    "print(Divisions)"
   ]
  },
  {
   "cell_type": "code",
   "execution_count": 38,
   "metadata": {},
   "outputs": [
    {
     "name": "stdout",
     "output_type": "stream",
     "text": [
      "set()\n"
     ]
    }
   ],
   "source": [
    "Divisions.clear()\n",
    "print(Divisions)"
   ]
  },
  {
   "cell_type": "markdown",
   "metadata": {},
   "source": [
    "<b>Frozen Set</b>"
   ]
  },
  {
   "cell_type": "code",
   "execution_count": 40,
   "metadata": {},
   "outputs": [
    {
     "name": "stdout",
     "output_type": "stream",
     "text": [
      "frozenset({1, 2, 3})\n",
      "frozenset({'c', 'a', 'b'})\n"
     ]
    }
   ],
   "source": [
    "Froze=frozenset([1,2,3])\n",
    "Froze2=frozenset((\"a\",\"b\",\"c\"))\n",
    "print(Froze)\n",
    "print(Froze2)"
   ]
  },
  {
   "cell_type": "markdown",
   "metadata": {},
   "source": [
    "<b> Methods</b>"
   ]
  },
  {
   "cell_type": "code",
   "execution_count": 41,
   "metadata": {},
   "outputs": [
    {
     "name": "stdout",
     "output_type": "stream",
     "text": [
      "{'I', 'n', 'd', 'y', 'a', 'i', 'v'}\n"
     ]
    }
   ],
   "source": [
    "# len(), min(), max(), sorted()\n",
    "\n",
    "#union()\n",
    "A={\"v\",\"i\",\"n\",\"a\",\"y\"}\n",
    "B={\"I\",\"n\",\"d\",\"i\",\"a\"}\n",
    "print(A.union(B))"
   ]
  },
  {
   "attachments": {
    "Sets.png": {
     "image/png": "[encoded data removed]"
    }
   },
   "cell_type": "markdown",
   "metadata": {},
   "source": [
    "![Sets.png](attachment:Sets.png)"
   ]
  },
  {
   "cell_type": "code",
   "execution_count": 43,
   "metadata": {},
   "outputs": [
    {
     "name": "stdout",
     "output_type": "stream",
     "text": [
      "{'a', 'i', 'n'}\n"
     ]
    }
   ],
   "source": [
    "print(A.intersection(B))"
   ]
  },
  {
   "cell_type": "code",
   "execution_count": 44,
   "metadata": {},
   "outputs": [
    {
     "name": "stdout",
     "output_type": "stream",
     "text": [
      "{'y', 'v'}\n"
     ]
    }
   ],
   "source": [
    "print(A.difference(B))"
   ]
  },
  {
   "cell_type": "code",
   "execution_count": 45,
   "metadata": {},
   "outputs": [
    {
     "name": "stdout",
     "output_type": "stream",
     "text": [
      "{'I', 'd'}\n"
     ]
    }
   ],
   "source": [
    "print(B.difference(A))"
   ]
  },
  {
   "cell_type": "code",
   "execution_count": null,
   "metadata": {},
   "outputs": [],
   "source": []
  }
 ],
 "metadata": {
  "kernelspec": {
   "display_name": "Python 3",
   "language": "python",
   "name": "python3"
  },
  "language_info": {
   "codemirror_mode": {
    "name": "ipython",
    "version": 3
   },
   "file_extension": ".py",
   "mimetype": "text/x-python",
   "name": "python",
   "nbconvert_exporter": "python",
   "pygments_lexer": "ipython3",
   "version": "3.8.3"
  }
 },
 "nbformat": 4,
 "nbformat_minor": 4
}
