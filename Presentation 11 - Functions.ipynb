{
 "cells": [
  {
   "cell_type": "markdown",
   "metadata": {},
   "source": [
    "# Functions in Python:\n",
    "\n",
    "\n",
    "---> piece of code block to performa a particular task\n",
    "\n",
    "\n",
    "---> set of instructions.\n",
    "\n",
    "\n",
    "---> 3 types of func. They are (Default, User Defined & Anonymous Functions)\n",
    "\n",
    "\n",
    "<b> Defining a function</b>"
   ]
  },
  {
   "cell_type": "code",
   "execution_count": 7,
   "metadata": {},
   "outputs": [],
   "source": [
    "def my_func():\n",
    "    print(\"Andariki Namaskaram is Ellarigu Namaskara\")"
   ]
  },
  {
   "cell_type": "markdown",
   "metadata": {},
   "source": [
    "<b> Calling a function </b>"
   ]
  },
  {
   "cell_type": "code",
   "execution_count": 8,
   "metadata": {},
   "outputs": [
    {
     "name": "stdout",
     "output_type": "stream",
     "text": [
      "Andariki Namaskaram is Ellarigu Namaskara\n"
     ]
    }
   ],
   "source": [
    "my_func()"
   ]
  },
  {
   "cell_type": "markdown",
   "metadata": {},
   "source": [
    "<b> Arguments vs Parameters</b>"
   ]
  },
  {
   "cell_type": "code",
   "execution_count": 9,
   "metadata": {},
   "outputs": [
    {
     "name": "stdout",
     "output_type": "stream",
     "text": [
      "9\n"
     ]
    }
   ],
   "source": [
    "def add(a,b): #Parameters\n",
    "    s=a+b\n",
    "    print(s)\n",
    "    \n",
    "    \n",
    "add(4,5) # Arguments, should be as many as parameters only.\n",
    "    "
   ]
  },
  {
   "cell_type": "markdown",
   "metadata": {},
   "source": [
    "<b> return & print <b>"
   ]
  },
  {
   "cell_type": "code",
   "execution_count": 3,
   "metadata": {},
   "outputs": [
    {
     "name": "stdout",
     "output_type": "stream",
     "text": [
      "Hello\n"
     ]
    },
    {
     "data": {
      "text/plain": [
       "6"
      ]
     },
     "execution_count": 3,
     "metadata": {},
     "output_type": "execute_result"
    }
   ],
   "source": [
    "def my_func(a,b):\n",
    "    s=a+b\n",
    "    #return s\n",
    "    print(\"Hello\")\n",
    "    return s+1\n",
    "    \n",
    "    \n",
    "my_func(2,3)"
   ]
  },
  {
   "cell_type": "markdown",
   "metadata": {},
   "source": [
    "<b>Recursion </b> \n",
    "\n",
    "\n",
    "---> Function calling itself.\n",
    "\n",
    "\n",
    "\n",
    "---> Must be careful to avoid infinite calling, need to define a variable to update."
   ]
  },
  {
   "cell_type": "code",
   "execution_count": 23,
   "metadata": {},
   "outputs": [
    {
     "data": {
      "text/plain": [
       "15"
      ]
     },
     "execution_count": 23,
     "metadata": {},
     "output_type": "execute_result"
    }
   ],
   "source": [
    "def Sum(n):\n",
    "    \n",
    "    if(n>0):\n",
    "        result=n+Sum(n-1)\n",
    "        \n",
    "        \n",
    "    else:\n",
    "        result=0\n",
    "    return result\n",
    "    \n",
    "Sum(5)"
   ]
  },
  {
   "cell_type": "code",
   "execution_count": null,
   "metadata": {},
   "outputs": [],
   "source": []
  }
 ],
 "metadata": {
  "kernelspec": {
   "display_name": "Python 3",
   "language": "python",
   "name": "python3"
  },
  "language_info": {
   "codemirror_mode": {
    "name": "ipython",
    "version": 3
   },
   "file_extension": ".py",
   "mimetype": "text/x-python",
   "name": "python",
   "nbconvert_exporter": "python",
   "pygments_lexer": "ipython3",
   "version": "3.8.3"
  }
 },
 "nbformat": 4,
 "nbformat_minor": 4
}
