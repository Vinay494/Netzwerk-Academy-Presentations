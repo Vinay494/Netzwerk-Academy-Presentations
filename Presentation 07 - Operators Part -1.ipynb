{
 "cells": [
  {
   "cell_type": "markdown",
   "metadata": {},
   "source": [
    "# Operators\n",
    "\n",
    "---> Corresponds to do an operation b/w operands.\n",
    "---> Pillars for building the logic in programming.\n",
    "\n",
    "List of operations:\n",
    "1) Arithmatic Operators\n",
    "2) Assignment Operators\n",
    "3) Comparision Operators\n",
    "4) Logical Operators\n",
    "5) Bit Wise Operators\n",
    "6) Membership Operators\n",
    "7) Identity Operators"
   ]
  },
  {
   "cell_type": "markdown",
   "metadata": {},
   "source": [
    "<b> 1) Arithmetic Operators </b>\n",
    "\n",
    "* Arithmatic operations\n",
    "-->   (+, -, *,/,%, **, // )"
   ]
  },
  {
   "cell_type": "code",
   "execution_count": 18,
   "metadata": {},
   "outputs": [
    {
     "name": "stdout",
     "output_type": "stream",
     "text": [
      "110\n",
      "90\n",
      "1000\n",
      "10.0\n",
      "10\n",
      "0\n",
      "100000000000000000000\n",
      "Hello Sanket, Prasanna, Yash\n"
     ]
    }
   ],
   "source": [
    "a=100\n",
    "b=10\n",
    "\n",
    "P=\"Hello \"\n",
    "Q=\"Sanket, Prasanna, Yash\"\n",
    "\n",
    "print(a+b)\n",
    "print(a-b)\n",
    "print(a*b)\n",
    "print(a/b)\n",
    "print(a//b)\n",
    "print(a%b)\n",
    "print(a**b)\n",
    "\n",
    "print(P+Q)\n"
   ]
  },
  {
   "cell_type": "markdown",
   "metadata": {},
   "source": [
    "<b> 2) Assignment Operators </b>\n",
    "\n",
    "---> =, +=, -=, *=, /=, //=, %=, **="
   ]
  },
  {
   "cell_type": "code",
   "execution_count": 3,
   "metadata": {},
   "outputs": [
    {
     "name": "stdout",
     "output_type": "stream",
     "text": [
      "11\n"
     ]
    }
   ],
   "source": [
    "c=10\n",
    "d=1\n",
    "\n",
    "c+=d  # c=c+d\n",
    "print(c)"
   ]
  },
  {
   "cell_type": "code",
   "execution_count": 16,
   "metadata": {},
   "outputs": [
    {
     "name": "stdout",
     "output_type": "stream",
     "text": [
      "9\n"
     ]
    }
   ],
   "source": [
    "c=10\n",
    "d=1\n",
    "\n",
    "c-=d  # c=c-d\n",
    "print(c)"
   ]
  },
  {
   "cell_type": "code",
   "execution_count": 8,
   "metadata": {},
   "outputs": [
    {
     "name": "stdout",
     "output_type": "stream",
     "text": [
      "0\n"
     ]
    }
   ],
   "source": [
    "c=10\n",
    "d=1\n",
    "\n",
    "c%=d  # c=c%d\n",
    "print(c)"
   ]
  },
  {
   "cell_type": "markdown",
   "metadata": {},
   "source": [
    "<b> 3) Comparison Operators </b>"
   ]
  },
  {
   "cell_type": "code",
   "execution_count": 9,
   "metadata": {},
   "outputs": [
    {
     "name": "stdout",
     "output_type": "stream",
     "text": [
      "Yashvardhan is Data Scientist\n"
     ]
    }
   ],
   "source": [
    "# (==, !=, <=, >=, <, >)\n",
    "\n",
    "# used in conditional statements\n",
    "\n",
    "if(5>4):\n",
    "    print(\"Yashvardhan is Data Scientist\")\n",
    "else:\n",
    "    print(\"Sky is blue\")\n",
    "    \n",
    "\n"
   ]
  },
  {
   "cell_type": "code",
   "execution_count": 11,
   "metadata": {},
   "outputs": [
    {
     "name": "stdout",
     "output_type": "stream",
     "text": [
      "I work at BEUMER Group\n"
     ]
    }
   ],
   "source": [
    "if('L'<='e'):\n",
    "    print(\"I work at BEUMER Group\")\n",
    "else:\n",
    "    print(\"It is false\")"
   ]
  },
  {
   "cell_type": "code",
   "execution_count": 13,
   "metadata": {},
   "outputs": [
    {
     "name": "stdout",
     "output_type": "stream",
     "text": [
      "He is super cool\n"
     ]
    }
   ],
   "source": [
    "if(\"Prasanna\"==\"Sidhapur\"):\n",
    "    print(\"He is cool\")\n",
    "else:\n",
    "    print(\"He is super cool\")"
   ]
  },
  {
   "cell_type": "code",
   "execution_count": 15,
   "metadata": {},
   "outputs": [
    {
     "name": "stdout",
     "output_type": "stream",
     "text": [
      "This is End of presentation, thank you !\n"
     ]
    }
   ],
   "source": [
    "if([1,2,3]==[1,2,3]):\n",
    "    print(\"This is End of presentation, thank you !\")\n",
    "else:\n",
    "    print(\"Let me continue\")"
   ]
  },
  {
   "cell_type": "code",
   "execution_count": null,
   "metadata": {},
   "outputs": [],
   "source": []
  }
 ],
 "metadata": {
  "kernelspec": {
   "display_name": "Python 3",
   "language": "python",
   "name": "python3"
  },
  "language_info": {
   "codemirror_mode": {
    "name": "ipython",
    "version": 3
   },
   "file_extension": ".py",
   "mimetype": "text/x-python",
   "name": "python",
   "nbconvert_exporter": "python",
   "pygments_lexer": "ipython3",
   "version": "3.8.3"
  }
 },
 "nbformat": 4,
 "nbformat_minor": 4
}
